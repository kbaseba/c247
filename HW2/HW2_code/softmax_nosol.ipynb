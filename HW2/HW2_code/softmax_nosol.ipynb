{
 "cells": [
  {
   "cell_type": "markdown",
   "metadata": {},
   "source": [
    "## This is the softmax workbook for ECE C147/C247 Assignment #2\n",
    "\n",
    "Please follow the notebook linearly to implement a softmax classifier.\n",
    "\n",
    "Please print out the workbook entirely when completed.\n",
    "\n",
    "The goal of this workbook is to give you experience with training a softmax classifier."
   ]
  },
  {
   "cell_type": "code",
   "execution_count": 2,
   "metadata": {},
   "outputs": [
    {
     "name": "stdout",
     "output_type": "stream",
     "text": [
      "The autoreload extension is already loaded. To reload it, use:\n",
      "  %reload_ext autoreload\n"
     ]
    }
   ],
   "source": [
    "import random\n",
    "import numpy as np\n",
    "from utils.data_utils import load_CIFAR10\n",
    "import matplotlib.pyplot as plt\n",
    "\n",
    "%matplotlib inline\n",
    "%load_ext autoreload\n",
    "%autoreload 2"
   ]
  },
  {
   "cell_type": "code",
   "execution_count": 5,
   "metadata": {
    "scrolled": true
   },
   "outputs": [
    {
     "name": "stdout",
     "output_type": "stream",
     "text": [
      "Train data shape:  (49000, 3073)\n",
      "Train labels shape:  (49000,)\n",
      "Validation data shape:  (1000, 3073)\n",
      "Validation labels shape:  (1000,)\n",
      "Test data shape:  (1000, 3073)\n",
      "Test labels shape:  (1000,)\n",
      "dev data shape:  (500, 3073)\n",
      "dev labels shape:  (500,)\n"
     ]
    }
   ],
   "source": [
    "def get_CIFAR10_data(num_training=49000, num_validation=1000, num_test=1000, num_dev=500):\n",
    "    \"\"\"\n",
    "    Load the CIFAR-10 dataset from disk and perform preprocessing to prepare\n",
    "    it for the linear classifier. These are the same steps as we used for the\n",
    "    SVM, but condensed to a single function.  \n",
    "    \"\"\"\n",
    "    # Load the raw CIFAR-10 data\n",
    "    cifar10_dir = '/Users/tilboon/Documents/UCLA/Courses/C247/HW2/HW2_code/cifar-10-batches-py' # You need to update this line\n",
    "    X_train, y_train, X_test, y_test = load_CIFAR10(cifar10_dir)\n",
    "    \n",
    "    # subsample the data\n",
    "    mask = list(range(num_training, num_training + num_validation))\n",
    "    X_val = X_train[mask]\n",
    "    y_val = y_train[mask]\n",
    "    mask = list(range(num_training))\n",
    "    X_train = X_train[mask]\n",
    "    y_train = y_train[mask]\n",
    "    mask = list(range(num_test))\n",
    "    X_test = X_test[mask]\n",
    "    y_test = y_test[mask]\n",
    "    mask = np.random.choice(num_training, num_dev, replace=False)\n",
    "    X_dev = X_train[mask]\n",
    "    y_dev = y_train[mask]\n",
    "    \n",
    "    # Preprocessing: reshape the image data into rows\n",
    "    X_train = np.reshape(X_train, (X_train.shape[0], -1))\n",
    "    X_val = np.reshape(X_val, (X_val.shape[0], -1))\n",
    "    X_test = np.reshape(X_test, (X_test.shape[0], -1))\n",
    "    X_dev = np.reshape(X_dev, (X_dev.shape[0], -1))\n",
    "    \n",
    "    # Normalize the data: subtract the mean image\n",
    "    mean_image = np.mean(X_train, axis = 0)\n",
    "    X_train -= mean_image\n",
    "    X_val -= mean_image\n",
    "    X_test -= mean_image\n",
    "    X_dev -= mean_image\n",
    "    \n",
    "    # add bias dimension and transform into columns\n",
    "    X_train = np.hstack([X_train, np.ones((X_train.shape[0], 1))])\n",
    "    X_val = np.hstack([X_val, np.ones((X_val.shape[0], 1))])\n",
    "    X_test = np.hstack([X_test, np.ones((X_test.shape[0], 1))])\n",
    "    X_dev = np.hstack([X_dev, np.ones((X_dev.shape[0], 1))])\n",
    "    \n",
    "    return X_train, y_train, X_val, y_val, X_test, y_test, X_dev, y_dev\n",
    "\n",
    "\n",
    "# Invoke the above function to get our data.\n",
    "X_train, y_train, X_val, y_val, X_test, y_test, X_dev, y_dev = get_CIFAR10_data()\n",
    "print('Train data shape: ', X_train.shape)\n",
    "print('Train labels shape: ', y_train.shape)\n",
    "print('Validation data shape: ', X_val.shape)\n",
    "print('Validation labels shape: ', y_val.shape)\n",
    "print('Test data shape: ', X_test.shape)\n",
    "print('Test labels shape: ', y_test.shape)\n",
    "print('dev data shape: ', X_dev.shape)\n",
    "print('dev labels shape: ', y_dev.shape)"
   ]
  },
  {
   "cell_type": "markdown",
   "metadata": {},
   "source": [
    "## Training a softmax classifier.\n",
    "\n",
    "The following cells will take you through building a softmax classifier.  You will implement its loss function, then subsequently train it with gradient descent.  Finally, you will choose the learning rate of gradient descent to optimize its classification performance."
   ]
  },
  {
   "cell_type": "code",
   "execution_count": 6,
   "metadata": {},
   "outputs": [],
   "source": [
    "from nndl import Softmax"
   ]
  },
  {
   "cell_type": "code",
   "execution_count": 7,
   "metadata": {},
   "outputs": [],
   "source": [
    "# Declare an instance of the Softmax class.  \n",
    "# Weights are initialized to a random value.\n",
    "# Note, to keep people's first solutions consistent, we are going to use a random seed.\n",
    "\n",
    "np.random.seed(1)\n",
    "\n",
    "num_classes = len(np.unique(y_train))\n",
    "num_features = X_train.shape[1]\n",
    "\n",
    "softmax = Softmax(dims=[num_classes, num_features])"
   ]
  },
  {
   "cell_type": "markdown",
   "metadata": {},
   "source": [
    "#### Softmax loss"
   ]
  },
  {
   "cell_type": "code",
   "execution_count": 8,
   "metadata": {},
   "outputs": [],
   "source": [
    "## Implement the loss function of the softmax using a for loop over\n",
    "#  the number of examples\n",
    "\n",
    "loss = softmax.loss(X_train, y_train)"
   ]
  },
  {
   "cell_type": "code",
   "execution_count": 9,
   "metadata": {},
   "outputs": [
    {
     "name": "stdout",
     "output_type": "stream",
     "text": [
      "2.3277607028048966\n"
     ]
    }
   ],
   "source": [
    "print(loss)"
   ]
  },
  {
   "cell_type": "markdown",
   "metadata": {},
   "source": [
    "## Question: \n",
    "\n",
    "You'll notice the loss returned by the softmax is about 2.3 (if implemented correctly).  Why does this make sense?"
   ]
  },
  {
   "cell_type": "markdown",
   "metadata": {},
   "source": [
    "## Answer:\n",
    "-ln(0.1) = 2.3. This shows that the probability of choosing the correct class is 10%, which makes sense because the wights are random.\n"
   ]
  },
  {
   "cell_type": "markdown",
   "metadata": {},
   "source": [
    "#### Softmax gradient"
   ]
  },
  {
   "cell_type": "code",
   "execution_count": 14,
   "metadata": {
    "scrolled": false
   },
   "outputs": [
    {
     "name": "stdout",
     "output_type": "stream",
     "text": [
      "numerical: -3.441406 analytic: -3.441406, relative error: 7.371486e-09\n",
      "numerical: 0.566164 analytic: 0.566164, relative error: 6.158833e-08\n",
      "numerical: -1.509496 analytic: -1.509496, relative error: 2.205557e-08\n",
      "numerical: 0.480927 analytic: 0.480927, relative error: 8.133125e-08\n",
      "numerical: -1.119525 analytic: -1.119526, relative error: 5.768046e-08\n",
      "numerical: -0.419041 analytic: -0.419041, relative error: 1.806362e-09\n",
      "numerical: -3.639235 analytic: -3.639235, relative error: 5.895431e-09\n",
      "numerical: 0.387843 analytic: 0.387843, relative error: 1.610869e-07\n",
      "numerical: 2.392608 analytic: 2.392608, relative error: 2.146916e-08\n",
      "numerical: 1.320036 analytic: 1.320036, relative error: 5.961130e-08\n"
     ]
    }
   ],
   "source": [
    "## Calculate the gradient of the softmax loss in the Softmax class.\n",
    "# For convenience, we'll write one function that computes the loss\n",
    "#   and gradient together, softmax.loss_and_grad(X, y)\n",
    "# You may copy and paste your loss code from softmax.loss() here, and then\n",
    "#   use the appropriate intermediate values to calculate the gradient.\n",
    "\n",
    "loss, grad = softmax.loss_and_grad(X_dev,y_dev)\n",
    "\n",
    "# Compare your gradient to a gradient check we wrote. \n",
    "# You should see relative gradient errors on the order of 1e-07 or less if you implemented the gradient correctly.\n",
    "softmax.grad_check_sparse(X_dev, y_dev, grad)"
   ]
  },
  {
   "cell_type": "markdown",
   "metadata": {},
   "source": [
    "## A vectorized version of Softmax\n",
    "\n",
    "To speed things up, we will vectorize the loss and gradient calculations.  This will be helpful for stochastic gradient descent."
   ]
  },
  {
   "cell_type": "code",
   "execution_count": 15,
   "metadata": {},
   "outputs": [],
   "source": [
    "import time"
   ]
  },
  {
   "cell_type": "code",
   "execution_count": 26,
   "metadata": {},
   "outputs": [
    {
     "name": "stdout",
     "output_type": "stream",
     "text": [
      "Normal loss / grad_norm: 2.33872090924829 / 321.98589570406955 computed in 0.03820514678955078s\n",
      "Vectorized loss / grad: 2.338720909248289 / 321.98589570406955 computed in 0.002907991409301758s\n",
      "difference in loss / grad: 8.881784197001252e-16 /2.0394590171326893e-13 \n"
     ]
    }
   ],
   "source": [
    "## Implement softmax.fast_loss_and_grad which calculates the loss and gradient\n",
    "#    WITHOUT using any for loops.  \n",
    "\n",
    "# Standard loss and gradient\n",
    "tic = time.time()\n",
    "loss, grad = softmax.loss_and_grad(X_dev, y_dev)\n",
    "toc = time.time()\n",
    "print('Normal loss / grad_norm: {} / {} computed in {}s'.format(loss, np.linalg.norm(grad, 'fro'), toc - tic))\n",
    "\n",
    "tic = time.time()\n",
    "loss_vectorized, grad_vectorized = softmax.fast_loss_and_grad(X_dev, y_dev)\n",
    "toc = time.time()\n",
    "print('Vectorized loss / grad: {} / {} computed in {}s'.format(loss_vectorized, np.linalg.norm(grad_vectorized, 'fro'), toc - tic))\n",
    "\n",
    "# The losses should match but your vectorized implementation should be much faster.\n",
    "print('difference in loss / grad: {} /{} '.format(loss - loss_vectorized, np.linalg.norm(grad - grad_vectorized)))\n",
    "\n",
    "# You should notice a speedup with the same output."
   ]
  },
  {
   "cell_type": "markdown",
   "metadata": {},
   "source": [
    "## Stochastic gradient descent\n",
    "\n",
    "We now implement stochastic gradient descent.  This uses the same principles of gradient descent we discussed in class, however, it calculates the gradient by only using examples from a subset of the training set (so each gradient calculation is faster)."
   ]
  },
  {
   "cell_type": "code",
   "execution_count": 69,
   "metadata": {
    "scrolled": false
   },
   "outputs": [
    {
     "name": "stdout",
     "output_type": "stream",
     "text": [
      "iteration 0 / 1500: loss 2.44515538257882\n",
      "iteration 100 / 1500: loss 2.102722970807078\n",
      "iteration 200 / 1500: loss 1.982153270491871\n",
      "iteration 300 / 1500: loss 1.9716279917796629\n",
      "iteration 400 / 1500: loss 1.8271622721011465\n",
      "iteration 500 / 1500: loss 1.8417495237518748\n",
      "iteration 600 / 1500: loss 1.8891403759151801\n",
      "iteration 700 / 1500: loss 1.8608596252429663\n",
      "iteration 800 / 1500: loss 1.8291336459127479\n",
      "iteration 900 / 1500: loss 1.832292639851959\n",
      "iteration 1000 / 1500: loss 1.8595635065276859\n",
      "iteration 1100 / 1500: loss 1.9715495308251019\n",
      "iteration 1200 / 1500: loss 1.8029841704072975\n",
      "iteration 1300 / 1500: loss 1.8654046891563791\n",
      "iteration 1400 / 1500: loss 1.7808285404094022\n",
      "That took 3.496454954147339s\n"
     ]
    },
    {
     "data": {
      "image/png": "[encoded data removed]",
      "text/plain": [
       "<Figure size 640x480 with 1 Axes>"
      ]
     },
     "metadata": {},
     "output_type": "display_data"
    }
   ],
   "source": [
    "# Implement softmax.train() by filling in the code to extract a batch of data\n",
    "# and perform the gradient step.\n",
    "import time\n",
    "\n",
    "\n",
    "tic = time.time()\n",
    "loss_hist = softmax.train(X_train, y_train, learning_rate=1e-7,\n",
    "                      num_iters=1500, verbose=True)\n",
    "toc = time.time()\n",
    "print('That took {}s'.format(toc - tic))\n",
    "\n",
    "plt.plot(loss_hist)\n",
    "plt.xlabel('Iteration number')\n",
    "plt.ylabel('Loss value')\n",
    "plt.show()"
   ]
  },
  {
   "cell_type": "markdown",
   "metadata": {},
   "source": [
    "### Evaluate the performance of the trained softmax classifier on the validation data."
   ]
  },
  {
   "cell_type": "code",
   "execution_count": 70,
   "metadata": {},
   "outputs": [
    {
     "name": "stdout",
     "output_type": "stream",
     "text": [
      "training accuracy: 0.3812857142857143\n",
      "validation accuracy: 0.379\n"
     ]
    }
   ],
   "source": [
    "## Implement softmax.predict() and use it to compute the training and testing error.\n",
    "\n",
    "y_train_pred = softmax.predict(X_train)\n",
    "print('training accuracy: {}'.format(np.mean(np.equal(y_train,y_train_pred), )))\n",
    "y_val_pred = softmax.predict(X_val)\n",
    "print('validation accuracy: {}'.format(np.mean(np.equal(y_val, y_val_pred)), ))"
   ]
  },
  {
   "cell_type": "markdown",
   "metadata": {},
   "source": [
    "## Optimize the softmax classifier"
   ]
  },
  {
   "cell_type": "code",
   "execution_count": 71,
   "metadata": {},
   "outputs": [
    {
     "data": {
      "text/plain": [
       "2.220446049250313e-16"
      ]
     },
     "execution_count": 71,
     "metadata": {},
     "output_type": "execute_result"
    }
   ],
   "source": [
    "np.finfo(float).eps"
   ]
  },
  {
   "cell_type": "code",
   "execution_count": 80,
   "metadata": {
    "scrolled": false
   },
   "outputs": [
    {
     "name": "stdout",
     "output_type": "stream",
     "text": [
      "Learning Rate: 1e-10, Validation Accuracy: 0.1\n",
      "Learning Rate: 2.0433597178569396e-10, Validation Accuracy: 0.155\n",
      "Learning Rate: 4.175318936560409e-10, Validation Accuracy: 0.133\n",
      "Learning Rate: 8.531678524172814e-10, Validation Accuracy: 0.14\n",
      "Learning Rate: 1.7433288221999873e-09, Validation Accuracy: 0.19\n",
      "Learning Rate: 3.5622478902624368e-09, Validation Accuracy: 0.26\n",
      "Learning Rate: 7.278953843983161e-09, Validation Accuracy: 0.284\n",
      "Learning Rate: 1.4873521072935118e-08, Validation Accuracy: 0.302\n",
      "Learning Rate: 3.039195382313195e-08, Validation Accuracy: 0.341\n",
      "Learning Rate: 6.210169418915617e-08, Validation Accuracy: 0.37\n",
      "Learning Rate: 1.2689610031679235e-07, Validation Accuracy: 0.397\n",
      "Learning Rate: 2.592943797404667e-07, Validation Accuracy: 0.408\n",
      "Learning Rate: 5.298316906283712e-07, Validation Accuracy: 0.416\n",
      "Learning Rate: 1.0826367338740541e-06, Validation Accuracy: 0.403\n",
      "Learning Rate: 2.2122162910704504e-06, Validation Accuracy: 0.41\n",
      "Learning Rate: 4.520353656360241e-06, Validation Accuracy: 0.381\n",
      "Learning Rate: 9.236708571873865e-06, Validation Accuracy: 0.316\n",
      "Learning Rate: 1.8873918221350995e-05, Validation Accuracy: 0.323\n",
      "Learning Rate: 3.856620421163472e-05, Validation Accuracy: 0.293\n",
      "Learning Rate: 7.880462815669921e-05, Validation Accuracy: 0.274\n",
      "Learning Rate: 0.00016102620275609394, Validation Accuracy: 0.267\n",
      "Learning Rate: 0.0003290344562312671, Validation Accuracy: 0.241\n",
      "Learning Rate: 0.0006723357536499335, Validation Accuracy: 0.352\n",
      "Learning Rate: 0.0013738237958832637, Validation Accuracy: 0.273\n",
      "Learning Rate: 0.002807216203941181, Validation Accuracy: 0.276\n",
      "Learning Rate: 0.005736152510448681, Validation Accuracy: 0.329\n",
      "Learning Rate: 0.011721022975334793, Validation Accuracy: 0.319\n",
      "Learning Rate: 0.02395026619987491, Validation Accuracy: 0.273\n",
      "Learning Rate: 0.04893900918477499, Validation Accuracy: 0.275\n",
      "Learning Rate: 0.1, Validation Accuracy: 0.227\n",
      "Best Learning Rate: 5.298316906283712e-07\n",
      "Best Validation Accuracy: 0.416\n",
      "Best Validation Error: 0.5840000000000001\n",
      "Test Error Rate for the best classifier: 0.612\n"
     ]
    }
   ],
   "source": [
    "# ================================================================ #\n",
    "# YOUR CODE HERE:\n",
    "#   Train the Softmax classifier with different learning rates and \n",
    "#     evaluate on the validation data.\n",
    "#   Report:\n",
    "#     - The best learning rate of the ones you tested.  \n",
    "#     - The best validation accuracy corresponding to the best validation error.\n",
    "#\n",
    "#   Select the SVM that achieved the best validation error and report\n",
    "#     its error rate on the test set.\n",
    "# ================================================================ #\n",
    "\n",
    "# Array of learning rates\n",
    "learning_rates = np.logspace(-10, -1, num=30)\n",
    "\n",
    "best_lr = None\n",
    "best_val_accuracy = 0\n",
    "best_softmax = None\n",
    "\n",
    "for lr in learning_rates:\n",
    "  softmax = Softmax(dims=[num_classes, num_features])\n",
    "  softmax.train(X_train, y_train, learning_rate=lr, num_iters=1500, verbose=False)\n",
    "\n",
    "  # Prediction\n",
    "  y_pred = softmax.predict(X_val)\n",
    "  \n",
    "  accuracy = np.mean(y_val == y_pred)\n",
    "  val_error = 1 - accuracy\n",
    "  print(f\"Learning Rate: {lr}, Validation Accuracy: {accuracy}\")\n",
    "\n",
    "  # Update\n",
    "  if accuracy > best_val_accuracy:\n",
    "    best_val_accuracy = accuracy\n",
    "    best_lr = lr\n",
    "    best_val_error = val_error\n",
    "    #best_softmax = softmax\n",
    "\n",
    "    # Prediction\n",
    "    y_pred_test = softmax.predict(X_test)\n",
    "    test_accuracy = np.mean(y_pred_test == y_test)\n",
    "\n",
    "    best_test_error_rate = 1 - test_accuracy\n",
    "\n",
    "print(f\"Best Learning Rate: {best_lr}\")\n",
    "print(f\"Best Validation Accuracy: {best_val_accuracy}\")\n",
    "print(f\"Best Validation Error: {best_val_error}\")\n",
    "print(f\"Test Error Rate for the best classifier: {best_test_error_rate}\")\n",
    "\n",
    "# ================================================================ #\n",
    "# END YOUR CODE HERE\n",
    "# ================================================================ #\n"
   ]
  }
 ],
 "metadata": {
  "kernelspec": {
   "display_name": "Python 3 (ipykernel)",
   "language": "python",
   "name": "python3"
  },
  "language_info": {
   "codemirror_mode": {
    "name": "ipython",
    "version": 3
   },
   "file_extension": ".py",
   "mimetype": "text/x-python",
   "name": "python",
   "nbconvert_exporter": "python",
   "pygments_lexer": "ipython3",
   "version": "3.11.6"
  }
 },
 "nbformat": 4,
 "nbformat_minor": 2
}
